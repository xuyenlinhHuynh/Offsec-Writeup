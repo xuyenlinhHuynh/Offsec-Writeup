{
 "cells": [
  {
   "cell_type": "markdown",
   "id": "e4aa415b",
   "metadata": {},
   "source": [
    "# DUCTF 2023 PWN -- Downunderflow"
   ]
  },
  {
   "cell_type": "markdown",
   "id": "a77abda6",
   "metadata": {},
   "source": [
    "A beginner challenge in the field of binary exploitation. Our task is to netcat (connect) to the server and ask for login as admin. After logging in as admin, we could access the server's shell interface 😎 But... something restricts us to login directly as admin 😩 surely, we must perform attack to gain access as admin. Let see how I can exploit the program running on the server and gain access to the system shell ✌️"
   ]
  },
  {
   "cell_type": "markdown",
   "id": "f5d03ed7",
   "metadata": {},
   "source": [
    "## Pre-requisite:\n",
    "1. Having Linux or MacOS environment enabled, or netcat installed on Windows OS.\n",
    "2. Basic understanding of data types in C language.\n",
    "3. Basic Linux command understanding."
   ]
  },
  {
   "cell_type": "markdown",
   "id": "8f12a7b8",
   "metadata": {},
   "source": [
    "## Write-up:\n",
    "Before connecting to the server and asking for login, I download the given C file (pre-compiled version) and do a brief analysis on what the code does.\n",
    "\n",
    "I notice there is an array containing all the users and the admin. In order to grab the \"**admin**\" value, I have to access the element on index **7** (i.e. logins\\[7\\]).\n",
    "\n",
    "\n",
    "<img src=\"Downunderflow 1.png\" alt=\"array\" width=\"600\"/>\n",
    "\n",
    "\n",
    "Of course, not that easy... When I try to connect to the server using the given command **nc 2023.ductf.dev 30025**, the server responds with the query asking me to supply an index that it could use to log in me as a user corresponding to the index in the above array. So I am supposed to give it \"**7**\" and it will give me access as admin. But, it shows \"**Invalid input**\"... hmmm so what should I put in as input? Let continue dive into the backend code! Check the following condition out:\n",
    "\n",
    "\n",
    "<img src=\"Downunderflow 2.png\" alt=\"array\" width=\"400\"/>\n",
    "\n",
    "\n",
    "This means I have to pass any number smaller than \"**7**\" not to receive \"**Invalid input**\". But then how can I get the element at index **7**? The index being casted into \"**unsigned short int**\" is used as the index to get the corresponding element out of the array.\n",
    "\n",
    "According to *C data types*, **unsigned short int** has 16 bits and it ranges from *0 to 65535* (binary: 1111111111111111). The input that the server accepts from user's argument is casted into **signed int**, which means it accepts any number ranging from *-2147483648 to 2147483647* (32 bits). So, if I put in a **negative** number to pass the condition `x < bound` given **bound=7**, and also has its last 16 bits as **0000000000000111** which will be equivalent to \"**7**\" after being casted into **short int** (i.e. discard all the \"*1's*\" bits from the position 2<sup>16</sup> to 2<sup>31</sup>), then I pretty much solve the challenge. \n",
    "\n",
    "The negative number which has the binary **11111111111111110000000000000111** is **<mark>-65529</mark>**.\n",
    "\n",
    "So, pass **<mark>-65529</mark>** as the input to the server. Then, I successfully log in as admin ✌️\n",
    "\n",
    "After all, I just list the files in the directory via `ls` command and read the flag file using `cat flag.txt`."
   ]
  },
  {
   "cell_type": "markdown",
   "id": "eca33db1",
   "metadata": {},
   "source": [
    "## Flag:\n",
    "The flag is: ***DUCTF{-65529_==_7_(mod_65536)}***"
   ]
  }
 ],
 "metadata": {
  "kernelspec": {
   "display_name": "Python 3 (ipykernel)",
   "language": "python",
   "name": "python3"
  },
  "language_info": {
   "codemirror_mode": {
    "name": "ipython",
    "version": 3
   },
   "file_extension": ".py",
   "mimetype": "text/x-python",
   "name": "python",
   "nbconvert_exporter": "python",
   "pygments_lexer": "ipython3",
   "version": "3.11.4"
  }
 },
 "nbformat": 4,
 "nbformat_minor": 5
}
