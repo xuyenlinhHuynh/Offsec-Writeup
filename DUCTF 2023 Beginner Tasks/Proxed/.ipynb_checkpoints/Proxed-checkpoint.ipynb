{
 "cells": [
  {
   "cell_type": "markdown",
   "id": "bbf0f677",
   "metadata": {},
   "source": [
    "# DUCTF 2023 WEB -- Proxed"
   ]
  },
  {
   "cell_type": "markdown",
   "id": "0cd6b4e8",
   "metadata": {},
   "source": [
    "Proxed is a perfect beginner-friendly task for whoever wants to learn about web traffic exploitation. The main goal about this task is to modify the request header to bypass the traffic restriction set by the backend server."
   ]
  },
  {
   "cell_type": "markdown",
   "id": "4e1fbcb2",
   "metadata": {},
   "source": [
    "## Pre-requisite:\n",
    "1. Have *Burp Suite* installed.\n",
    "2. Basic knowledge about HTTP request and programming principles."
   ]
  },
  {
   "cell_type": "markdown",
   "id": "11e83c5d",
   "metadata": {},
   "source": [
    "## Write-up:\n",
    "Starting by clicking the given URL, it is obvious that we are restricted to access the page since the in-coming IP is filtered.\n",
    "\n",
    "\n",
    "<img src=\"Screenshots/Proxed 2.png\" alt=\"Page\" width=\"550\"/>\n",
    "\n",
    "\n",
    "So, our goal is to modify the incoming IP so that we can bypass the restriction and access the web page. Let look at the `main.go` file given in the compress file. This file contains the routing algorithm and accepting traffic used on the server side.\n",
    "\n",
    "\n",
    "<img src=\"Screenshots/Proxed 1.png\" alt=\"Code\" width=\"550\"/>\n",
    "\n",
    "\n",
    "From the highlighted lines of code, I identify that there should be a header \"**X-Forwarded-For**\" and it must have the value \"**31.33.33.7**\" in order for the server to return the flag. Otherwise, it will print out *untrusted IP* and forbid the access to the web page.\n",
    "\n",
    "After identifying the essential header field, I start *Burp Suite* to intercept the web traffic and inject the malicious header to the HTTP request.\n",
    "\n",
    "\n",
    "<img src=\"Screenshots/Proxed 3.png\" alt=\"Burp\" width=\"550\"/>\n",
    "\n",
    "\n",
    "I intercept the traffic using the browser in *Burp Suite* under the *Proxy* tab. I can see the raw request to the page having only 8 fields without the identified \"**X-Forwarded-For**\". So, let add the field to the HTTP request header and give it an IP value to bypass the restriction.\n",
    "\n",
    "\n",
    "<img src=\"Screenshots/Proxed 4.png\" alt=\"Header\" width=\"300\"/>\n",
    "\n",
    "\n",
    "Clicking **add** then **forward** the request, the page on the *Burp Suite* browser will be refreshed with the flag returned back to us."
   ]
  },
  {
   "cell_type": "markdown",
   "id": "3a8c43c8",
   "metadata": {},
   "source": [
    "## Flag:\n",
    "The flag is: ***DUCTF{17_533m5_w3_f0rg07_70_pr0x}***"
   ]
  }
 ],
 "metadata": {
  "kernelspec": {
   "display_name": "Python 3 (ipykernel)",
   "language": "python",
   "name": "python3"
  },
  "language_info": {
   "codemirror_mode": {
    "name": "ipython",
    "version": 3
   },
   "file_extension": ".py",
   "mimetype": "text/x-python",
   "name": "python",
   "nbconvert_exporter": "python",
   "pygments_lexer": "ipython3",
   "version": "3.11.4"
  }
 },
 "nbformat": 4,
 "nbformat_minor": 5
}
