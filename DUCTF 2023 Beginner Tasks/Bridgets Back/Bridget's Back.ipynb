{
 "cells": [
  {
   "cell_type": "markdown",
   "id": "9ee48fa6",
   "metadata": {},
   "source": [
    "# DUCTF 2023 OSINT -- Bridget's Back"
   ]
  },
  {
   "cell_type": "markdown",
   "id": "ea853f1f",
   "metadata": {},
   "source": [
    "Another easy OSINT task. The given image is a famous landmark: **Golden Gate Bridge**. But the flag is not the bridge's name but a lookout area near the bridge... again our perfect Googling skill is needed."
   ]
  },
  {
   "cell_type": "markdown",
   "id": "296cd577",
   "metadata": {},
   "source": [
    "## Pre-requisite:\n",
    "1. Google Map 🗺️ "
   ]
  },
  {
   "cell_type": "markdown",
   "id": "61c18caa",
   "metadata": {},
   "source": [
    "## Write-up:\n",
    "I go straight to Google Map and search \"Golden Gate Bridge\". Then, I do a bit of analysis on the image... an obvious curve from the end of the bridge. I check all the surrounding lookout area and see what I found !!!!!\n",
    "\n",
    "\n",
    "<img src=\"Screenshots/Bridgets Back 3.png\" alt=\"bridge\" width=\"500\"/>\n",
    "\n",
    "\n",
    "*Vista*... Think back the previous task \"**Excellent Vista**\", this challenge is actually from the same author as \"**Excellent Vista**\". So I try this name as the flag and **SOLVED**."
   ]
  },
  {
   "cell_type": "markdown",
   "id": "13a69545",
   "metadata": {},
   "source": [
    "## Flag:\n",
    "The flag is: ***DUCTF{Vista_Point}***"
   ]
  }
 ],
 "metadata": {
  "kernelspec": {
   "display_name": "Python 3 (ipykernel)",
   "language": "python",
   "name": "python3"
  },
  "language_info": {
   "codemirror_mode": {
    "name": "ipython",
    "version": 3
   },
   "file_extension": ".py",
   "mimetype": "text/x-python",
   "name": "python",
   "nbconvert_exporter": "python",
   "pygments_lexer": "ipython3",
   "version": "3.11.4"
  }
 },
 "nbformat": 4,
 "nbformat_minor": 5
}
