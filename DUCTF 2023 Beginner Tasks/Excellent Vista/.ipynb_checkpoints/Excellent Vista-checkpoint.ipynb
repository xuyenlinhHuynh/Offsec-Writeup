{
 "cells": [
  {
   "cell_type": "markdown",
   "id": "f43e902d",
   "metadata": {},
   "source": [
    "# DUCTF 2023 OSINT -- Excellent Vista!"
   ]
  },
  {
   "cell_type": "markdown",
   "id": "00b32bd7",
   "metadata": {},
   "source": [
    "OSINT is definitely fun and easy to play with... if you are good at Googling stuff 👀 Look at the image they gave me, how can I figure out where the photo was taken from?"
   ]
  },
  {
   "cell_type": "markdown",
   "id": "aab715d4",
   "metadata": {},
   "source": [
    "## Pre-requisite:\n",
    "1. Google Map 😌"
   ]
  },
  {
   "cell_type": "markdown",
   "id": "dcf47726",
   "metadata": {},
   "source": [
    "## Write-up:\n",
    "Okay I have downloaded the image... what should I do next? It is just a photo showing the beach, and we have more than 10000 beaches in Australia only 😅\n",
    "\n",
    "But, look what I found !! \n",
    "\n",
    "\n",
    "<img src=\"Excellent Vista 2.png\" alt=\"metadata\" width=\"500\"/>\n",
    "\n",
    "\n",
    "If we have the latitude and longitude of a place then pretty much we know where the place is! \n",
    "\n",
    "Let perform my excellent Googling skill 😆 put the latitude and longitude onto Google Map:\n",
    "\n",
    "\n",
    "<img src=\"Excellent Vista 3.png\" alt=\"map\" width=\"600\"/>\n",
    "\n",
    "\n",
    "Wooo!! Found the location of the beach... but I need to find out the lookout location according to the challenge description. So lets zoom in a bit and scroll around that identified area.\n",
    "\n",
    "\n",
    "<img src=\"Excellent Vista 4.png\" alt=\"place\" width=\"500\"/>\n",
    "\n",
    "\n",
    "What is this? The name of the lookout I want to find 😗"
   ]
  },
  {
   "cell_type": "markdown",
   "id": "1479144c",
   "metadata": {},
   "source": [
    "## Flag:\n",
    "The flag is: ***DUCTF{Durrangan_Lookout}***"
   ]
  }
 ],
 "metadata": {
  "kernelspec": {
   "display_name": "Python 3 (ipykernel)",
   "language": "python",
   "name": "python3"
  },
  "language_info": {
   "codemirror_mode": {
    "name": "ipython",
    "version": 3
   },
   "file_extension": ".py",
   "mimetype": "text/x-python",
   "name": "python",
   "nbconvert_exporter": "python",
   "pygments_lexer": "ipython3",
   "version": "3.11.4"
  }
 },
 "nbformat": 4,
 "nbformat_minor": 5
}
