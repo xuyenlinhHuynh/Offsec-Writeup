{
 "cells": [
  {
   "cell_type": "markdown",
   "id": "7aa1a03c",
   "metadata": {},
   "source": [
    "# DUCTF 2023 MISC -- Discord"
   ]
  },
  {
   "cell_type": "markdown",
   "id": "c0c0818c",
   "metadata": {},
   "source": [
    "This challenge is one of the warm-up challenges which does not require any technical skill to complete."
   ]
  },
  {
   "cell_type": "markdown",
   "id": "03ee8709",
   "metadata": {},
   "source": [
    "## Pre-requisites:\n",
    "1. Have Discord installed.\n",
    "2. Joined the DownUnderCTF server."
   ]
  },
  {
   "cell_type": "markdown",
   "id": "83e20074",
   "metadata": {},
   "source": [
    "## Write-up:\n",
    "The challenge is very straight-forward. After joining the Discord server of DownUnderCTF, I start looking around in the channel \"rules\", there is a roughly 4 minute video in the channel talking about *monkey support*. It sounds silly but according to the challenge name, I can guess this video may contain the flag. So, this is a meme task 😂.\n",
    "\n",
    "Instead of watching a whole video talking about monkey 🙈 I just skip until the end of the video and obviously there is a flag:\n",
    "\n",
    "\n",
    "<img src=\"Discord.png\" alt=\"Monkey\" width=\"550\"/>\n",
    "\n",
    "\n",
    "Back to the rule of DownUnderCTF, our flag has to start with DUCTF. In the above image we can see the initials of the first five words before \"**{**\" corresponding to \"**DUCTF**\", so the initials of the rest in this meme will make up the actual flag value. "
   ]
  },
  {
   "cell_type": "markdown",
   "id": "52615c7b",
   "metadata": {},
   "source": [
    "## Flag:\n",
    "The flag is: ***DUCTF{REJECTHUMANITYRETURNTOOURSUPPORTQUEUE}***"
   ]
  }
 ],
 "metadata": {
  "kernelspec": {
   "display_name": "Python 3 (ipykernel)",
   "language": "python",
   "name": "python3"
  },
  "language_info": {
   "codemirror_mode": {
    "name": "ipython",
    "version": 3
   },
   "file_extension": ".py",
   "mimetype": "text/x-python",
   "name": "python",
   "nbconvert_exporter": "python",
   "pygments_lexer": "ipython3",
   "version": "3.11.4"
  }
 },
 "nbformat": 4,
 "nbformat_minor": 5
}
